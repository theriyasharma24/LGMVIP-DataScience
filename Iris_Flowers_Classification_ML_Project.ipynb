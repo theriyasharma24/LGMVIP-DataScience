{
  "nbformat": 4,
  "nbformat_minor": 0,
  "metadata": {
    "colab": {
      "name": "Iris Flowers Classification ML Project.ipynb",
      "provenance": [],
      "collapsed_sections": [],
      "authorship_tag": "ABX9TyMMHF0uVLgVN8ll7V2uAQhb",
      "include_colab_link": true
    },
    "kernelspec": {
      "name": "python3",
      "display_name": "Python 3"
    }
  },
  "cells": [
    {
      "cell_type": "markdown",
      "metadata": {
        "id": "view-in-github",
        "colab_type": "text"
      },
      "source": [
        "<a href=\"https://colab.research.google.com/github/theriyasharma24/LGMVIP-DataScience/blob/main/Iris_Flowers_Classification_ML_Project.ipynb\" target=\"_parent\"><img src=\"https://colab.research.google.com/assets/colab-badge.svg\" alt=\"Open In Colab\"/></a>"
      ]
    },
    {
      "cell_type": "markdown",
      "metadata": {
        "id": "9VGkD0-kE_wJ"
      },
      "source": [
        "**Riya Sharma Data Science Intern at Lets Grow More Virtual Internship Program (October 2021 Batch)** \n",
        "\n",
        "**Task 1** :  Iris Flowers Classification ML Project\n",
        "\n",
        "**Level** : Beginner\n",
        "\n",
        "**Algorithm** : K Nearest Neighbour Classifier\n"
      ]
    },
    {
      "cell_type": "markdown",
      "metadata": {
        "id": "kXyNBWS4QkJS"
      },
      "source": [
        "**Importing Libraries :**\n",
        "Importing libraries numpy and pandas."
      ]
    },
    {
      "cell_type": "code",
      "metadata": {
        "id": "xa2rKjE_Q_ma"
      },
      "source": [
        "import pandas as pd\n",
        "import numpy as np"
      ],
      "execution_count": null,
      "outputs": []
    },
    {
      "cell_type": "markdown",
      "metadata": {
        "id": "nWpTPZ6xRGqY"
      },
      "source": [
        "**Exploring the Data :** We can load the dataset by using load_iris function."
      ]
    },
    {
      "cell_type": "code",
      "metadata": {
        "id": "zOCJtnPjRd_h"
      },
      "source": [
        "from sklearn.datasets import load_iris\n",
        "iris_dataset = load_iris()"
      ],
      "execution_count": null,
      "outputs": []
    },
    {
      "cell_type": "markdown",
      "metadata": {
        "id": "EMHIBewhRu8Z"
      },
      "source": [
        "The iris object that is returned by  load_iris is similar to a dictionary."
      ]
    },
    {
      "cell_type": "code",
      "metadata": {
        "id": "Da0XdnouR8mq",
        "colab": {
          "base_uri": "https://localhost:8080/"
        },
        "outputId": "224c2ba4-a6cf-4fb7-89f6-237ce7bf42bb"
      },
      "source": [
        "print(\"Keys of iris_dataset :\\n{}\".format(iris_dataset.keys()))"
      ],
      "execution_count": null,
      "outputs": [
        {
          "output_type": "stream",
          "name": "stdout",
          "text": [
            "Keys of iris_dataset :\n",
            "dict_keys(['data', 'target', 'target_names', 'DESCR', 'feature_names', 'filename'])\n"
          ]
        }
      ]
    },
    {
      "cell_type": "markdown",
      "metadata": {
        "id": "J4Z1Khf4SF-L"
      },
      "source": [
        "The value of DESCR is a short description of the dataset. It contains :"
      ]
    },
    {
      "cell_type": "code",
      "metadata": {
        "id": "_WMEZPkVSP5S",
        "colab": {
          "base_uri": "https://localhost:8080/"
        },
        "outputId": "51069c53-7f78-4f24-f7c7-c13f02fd1d7c"
      },
      "source": [
        "val = iris_dataset['DESCR']\n",
        "start_val = val[:200]\n",
        "print(start_val + \"\\n...\")"
      ],
      "execution_count": null,
      "outputs": [
        {
          "output_type": "stream",
          "name": "stdout",
          "text": [
            ".. _iris_dataset:\n",
            "\n",
            "Iris plants dataset\n",
            "--------------------\n",
            "\n",
            "**Data Set Characteristics:**\n",
            "\n",
            "    :Number of Instances: 150 (50 in each of three classes)\n",
            "    :Number of Attributes: 4 numeric, predictive\n",
            "...\n"
          ]
        }
      ]
    },
    {
      "cell_type": "markdown",
      "metadata": {
        "id": "J7itE-YXSaMM"
      },
      "source": [
        "The value of target_names is an array of strings ,containing the species of flower that we want to predict ."
      ]
    },
    {
      "cell_type": "code",
      "metadata": {
        "id": "KfST1Xv5Szqp",
        "colab": {
          "base_uri": "https://localhost:8080/"
        },
        "outputId": "061ed4af-f45a-4b3e-8340-d06eb558ea05"
      },
      "source": [
        "print(\"Target names : {}\".format(iris_dataset['target_names']))"
      ],
      "execution_count": null,
      "outputs": [
        {
          "output_type": "stream",
          "name": "stdout",
          "text": [
            "Target names : ['setosa' 'versicolor' 'virginica']\n"
          ]
        }
      ]
    },
    {
      "cell_type": "markdown",
      "metadata": {
        "id": "wS6Oqs8NUTIN"
      },
      "source": [
        "The value of feature_name is an array of strings ,giving the description of each feature :"
      ]
    },
    {
      "cell_type": "code",
      "metadata": {
        "id": "DvIcnXfhUhTt",
        "colab": {
          "base_uri": "https://localhost:8080/"
        },
        "outputId": "a13091e5-87e9-4004-9e28-d6e50ffff467"
      },
      "source": [
        "print(\"Feature names : \\n{}\".format(iris_dataset['feature_names']))"
      ],
      "execution_count": null,
      "outputs": [
        {
          "output_type": "stream",
          "name": "stdout",
          "text": [
            "Feature names : \n",
            "['sepal length (cm)', 'sepal width (cm)', 'petal length (cm)', 'petal width (cm)']\n"
          ]
        }
      ]
    },
    {
      "cell_type": "markdown",
      "metadata": {
        "id": "HpzoG-koUnfY"
      },
      "source": [
        "The data contains numeric measurements of sepal length , sepal width , petal length, and petal width in a NumPy array:"
      ]
    },
    {
      "cell_type": "code",
      "metadata": {
        "id": "PX-tVlAAU8d5",
        "colab": {
          "base_uri": "https://localhost:8080/"
        },
        "outputId": "bf698fba-03e2-4771-e34e-ce19584e63fa"
      },
      "source": [
        "print(\"Type of data : {}\".format(type(iris_dataset['data'])))"
      ],
      "execution_count": null,
      "outputs": [
        {
          "output_type": "stream",
          "name": "stdout",
          "text": [
            "Type of data : <class 'numpy.ndarray'>\n"
          ]
        }
      ]
    },
    {
      "cell_type": "markdown",
      "metadata": {
        "id": "Qqle69_aVGfk"
      },
      "source": [
        "The rows in this data array correspond to the flowers , while the columns represent the four measurements that were taken for each flower :"
      ]
    },
    {
      "cell_type": "code",
      "metadata": {
        "id": "p0rISHJwVU-s",
        "colab": {
          "base_uri": "https://localhost:8080/"
        },
        "outputId": "3a50e019-05ba-4de0-ef83-e8c4ce4e3c54"
      },
      "source": [
        "print(\"Shape of data : {}\".format(iris_dataset['data'].shape))"
      ],
      "execution_count": null,
      "outputs": [
        {
          "output_type": "stream",
          "name": "stdout",
          "text": [
            "Shape of data : (150, 4)\n"
          ]
        }
      ]
    },
    {
      "cell_type": "markdown",
      "metadata": {
        "id": "qmMcMaQ2Vio1"
      },
      "source": [
        "Feature values for the first five samples:"
      ]
    },
    {
      "cell_type": "code",
      "metadata": {
        "id": "KQM9wzTPVmY-",
        "colab": {
          "base_uri": "https://localhost:8080/"
        },
        "outputId": "516f5441-c980-4dc7-d669-a1866c3cdf5f"
      },
      "source": [
        "print(\"First five columns of data:\\n{}\".format(iris_dataset['data'][:5]))"
      ],
      "execution_count": null,
      "outputs": [
        {
          "output_type": "stream",
          "name": "stdout",
          "text": [
            "First five columns of data:\n",
            "[[5.1 3.5 1.4 0.2]\n",
            " [4.9 3.  1.4 0.2]\n",
            " [4.7 3.2 1.3 0.2]\n",
            " [4.6 3.1 1.5 0.2]\n",
            " [5.  3.6 1.4 0.2]]\n"
          ]
        }
      ]
    },
    {
      "cell_type": "markdown",
      "metadata": {
        "id": "wVEyaRdoVzI5"
      },
      "source": [
        "target array contains the species of each of the flowers that were meaasured , also as a NumPy array : "
      ]
    },
    {
      "cell_type": "code",
      "metadata": {
        "id": "JEK5qGu5V-Fb",
        "colab": {
          "base_uri": "https://localhost:8080/"
        },
        "outputId": "636edbe3-defd-445b-cf7a-19e5cbd974f6"
      },
      "source": [
        "print(\"Type of target: {}\".format(type(iris_dataset['target'])))"
      ],
      "execution_count": null,
      "outputs": [
        {
          "output_type": "stream",
          "name": "stdout",
          "text": [
            "Type of target: <class 'numpy.ndarray'>\n"
          ]
        }
      ]
    },
    {
      "cell_type": "markdown",
      "metadata": {
        "id": "QH2vh8BsWK7G"
      },
      "source": [
        "target is a one dimensional array , and on seeing the shape we can see that it contains oe entry per flower : "
      ]
    },
    {
      "cell_type": "code",
      "metadata": {
        "id": "Po29Od19WU55",
        "colab": {
          "base_uri": "https://localhost:8080/"
        },
        "outputId": "cd4622e2-b09b-46f8-ca4c-3bea1fc0a662"
      },
      "source": [
        "print(\"Shape of target : {}\".format(iris_dataset['target'].shape))"
      ],
      "execution_count": null,
      "outputs": [
        {
          "output_type": "stream",
          "name": "stdout",
          "text": [
            "Shape of target : (150,)\n"
          ]
        }
      ]
    },
    {
      "cell_type": "markdown",
      "metadata": {
        "id": "dVCmQxgCWZpR"
      },
      "source": [
        "On seeing the target key and exploring the values we can easily see that the species are encoded as integers from 0 to 2 :"
      ]
    },
    {
      "cell_type": "code",
      "metadata": {
        "id": "YyLQirn4Wp3F",
        "colab": {
          "base_uri": "https://localhost:8080/"
        },
        "outputId": "b735692b-3666-41d0-8928-6f348e3b648e"
      },
      "source": [
        "print(\"Target:\\n{}\".format(iris_dataset['target']))\n"
      ],
      "execution_count": null,
      "outputs": [
        {
          "output_type": "stream",
          "name": "stdout",
          "text": [
            "Target:\n",
            "[0 0 0 0 0 0 0 0 0 0 0 0 0 0 0 0 0 0 0 0 0 0 0 0 0 0 0 0 0 0 0 0 0 0 0 0 0\n",
            " 0 0 0 0 0 0 0 0 0 0 0 0 0 1 1 1 1 1 1 1 1 1 1 1 1 1 1 1 1 1 1 1 1 1 1 1 1\n",
            " 1 1 1 1 1 1 1 1 1 1 1 1 1 1 1 1 1 1 1 1 1 1 1 1 1 1 2 2 2 2 2 2 2 2 2 2 2\n",
            " 2 2 2 2 2 2 2 2 2 2 2 2 2 2 2 2 2 2 2 2 2 2 2 2 2 2 2 2 2 2 2 2 2 2 2 2 2\n",
            " 2 2]\n"
          ]
        }
      ]
    },
    {
      "cell_type": "markdown",
      "metadata": {
        "id": "eDdq1sJ5WxO-"
      },
      "source": [
        "In this array , 0 means setosa , 1 means versicolor , and 2 means virginica."
      ]
    },
    {
      "cell_type": "markdown",
      "metadata": {
        "id": "SdJoIC7pW6uf"
      },
      "source": [
        "\n",
        "**Measuring Success : Training and Testing Data :** \n",
        "\n",
        "Once a model has been built and trained we would like to test whether it actually works ."
      ]
    },
    {
      "cell_type": "code",
      "metadata": {
        "id": "hqhqEjrtYTF1"
      },
      "source": [
        "from sklearn.model_selection import train_test_split\n",
        "X_train , X_test , y_train , y_test = train_test_split(\n",
        "    iris_dataset['data'],iris_dataset['target'],random_state=0)"
      ],
      "execution_count": null,
      "outputs": []
    },
    {
      "cell_type": "markdown",
      "metadata": {
        "id": "dZ_kQUySY3P5"
      },
      "source": [
        "Before making the split , the train_test_split function shuffles the dataset using a pseudorandom number generator."
      ]
    },
    {
      "cell_type": "code",
      "metadata": {
        "id": "S9_6_3SjZF2d",
        "colab": {
          "base_uri": "https://localhost:8080/"
        },
        "outputId": "3442ac23-147b-4780-bc48-9e56dbfd9051"
      },
      "source": [
        "print(\"X_train shape:{}\".format(X_train.shape))\n",
        "print(\"y_train shape:{}\".format(y_train.shape))\n",
        "print(\"X_test shape:{}\".format(X_test.shape))\n",
        "print(\"y_test shape:{}\".format(X_test.shape))"
      ],
      "execution_count": null,
      "outputs": [
        {
          "output_type": "stream",
          "name": "stdout",
          "text": [
            "X_train shape:(112, 4)\n",
            "y_train shape:(112,)\n",
            "X_test shape:(38, 4)\n",
            "y_test shape:(38, 4)\n"
          ]
        }
      ]
    },
    {
      "cell_type": "markdown",
      "metadata": {
        "id": "WPEBOPWHano8"
      },
      "source": [
        "**Inspecting The Data :**\n",
        "\n",
        "KNeighborsClassifier class is in the neighbors module."
      ]
    },
    {
      "cell_type": "code",
      "metadata": {
        "id": "ucP2JwxoasCm"
      },
      "source": [
        "from sklearn.neighbors import KNeighborsClassifier\n",
        "knn=KNeighborsClassifier(n_neighbors=1)"
      ],
      "execution_count": null,
      "outputs": []
    },
    {
      "cell_type": "markdown",
      "metadata": {
        "id": "p7S0qI55bVmr"
      },
      "source": [
        "The knn object encapsulates the algorithm that will be used to build the model from the training data, as well as the algorithm to make predictions on new data points."
      ]
    },
    {
      "cell_type": "code",
      "metadata": {
        "id": "dzWgUvn5bnJi",
        "colab": {
          "base_uri": "https://localhost:8080/"
        },
        "outputId": "1bccee92-6814-44c2-c782-4c93a8388504"
      },
      "source": [
        "knn.fit(X_train,y_train)"
      ],
      "execution_count": null,
      "outputs": [
        {
          "output_type": "execute_result",
          "data": {
            "text/plain": [
              "KNeighborsClassifier(algorithm='auto', leaf_size=30, metric='minkowski',\n",
              "                     metric_params=None, n_jobs=None, n_neighbors=1, p=2,\n",
              "                     weights='uniform')"
            ]
          },
          "metadata": {},
          "execution_count": 56
        }
      ]
    },
    {
      "cell_type": "markdown",
      "metadata": {
        "id": "chTi2KDJbzX5"
      },
      "source": [
        "**Making Predictions :**\n",
        "\n",
        "We can now make predictions on this model using new data for which we might not knw the correct labels ."
      ]
    },
    {
      "cell_type": "code",
      "metadata": {
        "id": "X3fCY136cMbJ",
        "colab": {
          "base_uri": "https://localhost:8080/"
        },
        "outputId": "31b51071-c109-4af6-ec05-f46027e4f61c"
      },
      "source": [
        "X_new = np.array([[5,2.9,1,0.2]])\n",
        "\n",
        "print(\"X_new.shape :{}\".format(X_new.shape))"
      ],
      "execution_count": null,
      "outputs": [
        {
          "output_type": "stream",
          "name": "stdout",
          "text": [
            "X_new.shape :(1, 4)\n"
          ]
        }
      ]
    },
    {
      "cell_type": "markdown",
      "metadata": {
        "id": "kPKu_BQWcoj6"
      },
      "source": [
        "Now, to make predictions , we call the predict method of the knn object : "
      ]
    },
    {
      "cell_type": "code",
      "metadata": {
        "id": "dXbTVzegcxnh",
        "colab": {
          "base_uri": "https://localhost:8080/"
        },
        "outputId": "66527d14-e719-41f6-b1cb-f70e9d960bc7"
      },
      "source": [
        "prediction = knn.predict(X_new)\n",
        "\n",
        "print(\"Prediction : {}\".format(prediction))\n",
        "print(\"Predicted target name : {}\".format(\n",
        "    iris_dataset['target_names'][prediction]))"
      ],
      "execution_count": null,
      "outputs": [
        {
          "output_type": "stream",
          "name": "stdout",
          "text": [
            "Prediction : [0]\n",
            "Predicted target name : ['setosa']\n"
          ]
        }
      ]
    },
    {
      "cell_type": "markdown",
      "metadata": {
        "id": "F9GGgkkzdQmY"
      },
      "source": [
        "\n",
        "**Evaluating the Model**\n",
        "\n",
        "We can make prediction for each iris in the test data and compare it against its label (the known species)."
      ]
    },
    {
      "cell_type": "code",
      "metadata": {
        "id": "SmzbbpYzdviM",
        "colab": {
          "base_uri": "https://localhost:8080/"
        },
        "outputId": "cb34c4e2-293a-4623-d6b1-9a2ab4724949"
      },
      "source": [
        "y_pred = knn.predict(X_test)\n",
        "print(\"Test set predictions :\\n{}\".format(y_pred))"
      ],
      "execution_count": null,
      "outputs": [
        {
          "output_type": "stream",
          "name": "stdout",
          "text": [
            "Test set predictions :\n",
            "[2 1 0 2 0 2 0 1 1 1 2 1 1 1 1 0 1 1 0 0 2 1 0 0 2 0 0 1 1 0 2 1 0 2 2 1 0\n",
            " 2]\n"
          ]
        }
      ]
    },
    {
      "cell_type": "code",
      "metadata": {
        "id": "4B9nNTzQeFbV",
        "colab": {
          "base_uri": "https://localhost:8080/"
        },
        "outputId": "8cbe4b8a-33e7-4aa5-fa17-4a378a14d7bc"
      },
      "source": [
        "print(\"Test set score: {}\".format(np.mean(y_pred == y_test)))"
      ],
      "execution_count": null,
      "outputs": [
        {
          "output_type": "stream",
          "name": "stdout",
          "text": [
            "Test set score: 0.9736842105263158\n"
          ]
        }
      ]
    },
    {
      "cell_type": "markdown",
      "metadata": {
        "id": "cNp6CohBeis3"
      },
      "source": [
        "The accuracy of our model is about 97 %."
      ]
    }
  ]
}